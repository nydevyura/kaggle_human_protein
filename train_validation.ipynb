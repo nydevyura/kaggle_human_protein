{
 "cells": [
  {
   "cell_type": "code",
   "execution_count": 1,
   "metadata": {},
   "outputs": [],
   "source": [
    "import torch\n",
    "from torch.utils.data import DataLoader\n",
    "import torch.backends.cudnn as cudnn\n",
    "import numpy as np\n",
    "import torch.nn.functional as F\n",
    "import sys\n",
    "import os \n",
    "from data import *\n",
    "from tqdm import tqdm\n",
    "import matplotlib.pyplot as plt\n",
    "from sklearn.metrics import f1_score\n",
    "from sklearn.model_selection import train_test_split"
   ]
  },
  {
   "cell_type": "code",
   "execution_count": 2,
   "metadata": {},
   "outputs": [],
   "source": [
    "# simple vgg like network\n",
    "class SmallConv(torch.nn.Module):\n",
    "    def __init__(self):\n",
    "        super(SmallConv, self).__init__()\n",
    "\n",
    "        #Input channels = 4, output channels = 32\n",
    "        self.conv1 = torch.nn.Conv2d(4, 32, kernel_size=5, stride=2)\n",
    "        self.conv2 = torch.nn.Conv2d(32, 64, kernel_size=5, stride=2)\n",
    "        self.bn1 = torch.nn.BatchNorm2d(64)\n",
    "        self.conv3 = torch.nn.Conv2d(64, 128, kernel_size=2, stride=2)\n",
    "        self.conv4 = torch.nn.Conv2d(128, 256, kernel_size=2, stride=2)\n",
    "        self.bn2 = torch.nn.BatchNorm2d(256)\n",
    "        self.conv5 = torch.nn.Conv2d(256, 512, kernel_size=2, stride=2)\n",
    "        self.conv6 = torch.nn.Conv2d(512, 512, kernel_size=2, stride=2)\n",
    "        self.bn3 = torch.nn.BatchNorm2d(512)\n",
    "        self.conv7 = torch.nn.Conv2d(512, 1024, kernel_size=4, stride=1)\n",
    "        self.avg_pool = torch.nn.AdaptiveAvgPool2d((1,1))\n",
    "\n",
    "#         512 input features, 28 output features\n",
    "        self.classifier = torch.nn.Linear(1024, 28)\n",
    "\n",
    "\n",
    "    def forward(self, x):\n",
    "        x = F.relu(self.conv1(x))\n",
    "        x = self.conv2(x)\n",
    "        x = F.relu(self.bn1(x))\n",
    "        x = F.relu(self.conv3(x))\n",
    "        x = self.conv4(x)\n",
    "        x = F.relu(self.bn2(x))\n",
    "        x = F.relu(self.conv5(x))\n",
    "        x = self.conv6(x)\n",
    "        x = F.relu(self.bn3(x))\n",
    "        x = F.relu(self.conv7(x))\n",
    "        x = self.avg_pool(x)\n",
    "        x = x.view(x.shape[0], -1)\n",
    "        x = self.classifier(x)\n",
    "        x = F.sigmoid(x)\n",
    "        return x\n",
    "    \n",
    "model = SmallConv()\n",
    "# x = torch.tensor(np.empty((8,4,512,512)), dtype=torch.float32)\n",
    "# y = model.forward(x)\n",
    "# y.shape"
   ]
  },
  {
   "cell_type": "code",
   "execution_count": 3,
   "metadata": {},
   "outputs": [],
   "source": [
    "data_dir = 'data/train'\n",
    "train_df = pd.read_csv('data/train.csv')\n",
    "train_idx, val_idx = train_test_split(np.arange(len(train_df)), test_size=0.2, shuffle=True)\n",
    "train_loader = create_data_loader(data_dir, train_df, load_target=True, shuffle=True, idx=train_idx, batch_size=64)\n",
    "val_loader = create_data_loader(data_dir, train_df, load_target=True, shuffle=False, idx=val_idx)"
   ]
  },
  {
   "cell_type": "code",
   "execution_count": 4,
   "metadata": {
    "scrolled": false
   },
   "outputs": [],
   "source": [
    "def eval_model(model, val_loader, score=True):\n",
    "    pred = None\n",
    "    gt = None\n",
    "    model = model.eval()\n",
    "    with torch.no_grad():\n",
    "        for i, data in enumerate(tqdm(val_loader)):\n",
    "            x, t = data\n",
    "            x = x.to(device)\n",
    "            t = t.to(device)\n",
    "            y = model(x).detach().cpu().numpy()\n",
    "            if i > 0:\n",
    "                pred = np.vstack([pred, y])\n",
    "                if score:\n",
    "                    gt = np.vstack([gt, t.cpu().numpy()])\n",
    "            else:\n",
    "                pred = y\n",
    "                if score:\n",
    "                    gt = t.cpu().numpy()\n",
    "\n",
    "    if score:\n",
    "        return f1_score(gt, (pred > 0.2).astype(int), average='macro')\n",
    "    else:\n",
    "        return pred\n",
    "\n",
    "def train_model(model, n_epochs, optimizer, train_loader, criterion, losses, scores):\n",
    "    model = model.train()\n",
    "    for j, epoch in enumerate(range(n_epochs)):  # loop over the dataset multiple times\n",
    "        losses.append([])\n",
    "        running_loss = 0.0\n",
    "        for i, data in enumerate(tqdm(train_loader), 0):\n",
    "            # get the inputs\n",
    "            inputs, labels = data\n",
    "            labels = labels.to(device)\n",
    "            inputs = inputs.to(device)\n",
    "\n",
    "            # zero the parameter gradients\n",
    "            optimizer.zero_grad()\n",
    "\n",
    "            # forward + backward + optimize\n",
    "            outputs = model(inputs)\n",
    "            loss = criterion(outputs, labels)\n",
    "            loss.backward()\n",
    "            optimizer.step()\n",
    "\n",
    "            # print statistics\n",
    "            losses[-1].append(loss.item())\n",
    "            running_loss += loss.item()\n",
    "    #         if i % 100 == 99:    # print every 100 mini-batches\n",
    "    #             print('[%d, %5d] loss: %.3f' %\n",
    "    #                   (epoch + 1, i + 1, running_loss / 100))\n",
    "    #             running_loss = 0.0\n",
    "\n",
    "        score = eval_model(model, val_loader)\n",
    "        scores.append(score)\n",
    "\n",
    "        print(\"Epoch %d average loss %f, val f1_score %f\" % (j, np.mean(losses[-1]), score))\n",
    "\n",
    "losses = []\n",
    "scores = []\n",
    "device_ids = [4,5]\n",
    "device = torch.device(\"cuda:%d\"%device_ids[0])\n",
    "torch.cuda.set_device(device_ids[0])\n",
    "cudnn.benchmark = True\n",
    "model = model.to(device)\n",
    "# model = torch.nn.DataParallel(model, device_ids)\n",
    "criterion = torch.nn.BCELoss()\n",
    "criterion.to(device)\n",
    "optimizer = torch.optim.Adam(model.parameters())"
   ]
  },
  {
   "cell_type": "code",
   "execution_count": 5,
   "metadata": {},
   "outputs": [
    {
     "name": "stderr",
     "output_type": "stream",
     "text": [
      "100%|██████████| 389/389 [01:36<00:00,  4.04it/s]\n",
      "100%|██████████| 49/49 [00:15<00:00,  3.17it/s]\n",
      "/usr/local/lib/python3.5/dist-packages/sklearn/metrics/classification.py:1143: UndefinedMetricWarning: F-score is ill-defined and being set to 0.0 in labels with no predicted samples.\n",
      "  'precision', 'predicted', average, warn_for)\n",
      "  0%|          | 0/389 [00:00<?, ?it/s]"
     ]
    },
    {
     "name": "stdout",
     "output_type": "stream",
     "text": [
      "Epoch 0 average loss 0.166531, val f1_score 0.085996\n"
     ]
    },
    {
     "name": "stderr",
     "output_type": "stream",
     "text": [
      "100%|██████████| 389/389 [01:34<00:00,  4.13it/s]\n",
      "100%|██████████| 49/49 [00:14<00:00,  3.39it/s]\n",
      "  0%|          | 0/389 [00:00<?, ?it/s]"
     ]
    },
    {
     "name": "stdout",
     "output_type": "stream",
     "text": [
      "Epoch 1 average loss 0.155961, val f1_score 0.096531\n"
     ]
    },
    {
     "name": "stderr",
     "output_type": "stream",
     "text": [
      "100%|██████████| 389/389 [01:34<00:00,  4.13it/s]\n",
      "100%|██████████| 49/49 [00:15<00:00,  3.22it/s]\n",
      "  0%|          | 0/389 [00:00<?, ?it/s]"
     ]
    },
    {
     "name": "stdout",
     "output_type": "stream",
     "text": [
      "Epoch 2 average loss 0.149194, val f1_score 0.147657\n"
     ]
    },
    {
     "name": "stderr",
     "output_type": "stream",
     "text": [
      "100%|██████████| 389/389 [01:35<00:00,  4.06it/s]\n",
      "100%|██████████| 49/49 [00:15<00:00,  3.25it/s]\n",
      "  0%|          | 0/389 [00:00<?, ?it/s]"
     ]
    },
    {
     "name": "stdout",
     "output_type": "stream",
     "text": [
      "Epoch 3 average loss 0.140738, val f1_score 0.221336\n"
     ]
    },
    {
     "name": "stderr",
     "output_type": "stream",
     "text": [
      "100%|██████████| 389/389 [01:33<00:00,  4.14it/s]\n",
      "100%|██████████| 49/49 [00:15<00:00,  3.26it/s]\n",
      "  0%|          | 0/389 [00:00<?, ?it/s]"
     ]
    },
    {
     "name": "stdout",
     "output_type": "stream",
     "text": [
      "Epoch 4 average loss 0.133261, val f1_score 0.244852\n"
     ]
    },
    {
     "name": "stderr",
     "output_type": "stream",
     "text": [
      "100%|██████████| 389/389 [01:34<00:00,  4.13it/s]\n",
      "100%|██████████| 49/49 [00:15<00:00,  3.12it/s]\n",
      "  0%|          | 0/389 [00:00<?, ?it/s]"
     ]
    },
    {
     "name": "stdout",
     "output_type": "stream",
     "text": [
      "Epoch 5 average loss 0.125758, val f1_score 0.251803\n"
     ]
    },
    {
     "name": "stderr",
     "output_type": "stream",
     "text": [
      "100%|██████████| 389/389 [01:34<00:00,  4.11it/s]\n",
      "100%|██████████| 49/49 [00:14<00:00,  3.28it/s]\n",
      "  0%|          | 0/389 [00:00<?, ?it/s]"
     ]
    },
    {
     "name": "stdout",
     "output_type": "stream",
     "text": [
      "Epoch 6 average loss 0.118497, val f1_score 0.289759\n"
     ]
    },
    {
     "name": "stderr",
     "output_type": "stream",
     "text": [
      "100%|██████████| 389/389 [01:34<00:00,  4.13it/s]\n",
      "100%|██████████| 49/49 [00:15<00:00,  3.19it/s]\n",
      "  0%|          | 0/389 [00:00<?, ?it/s]"
     ]
    },
    {
     "name": "stdout",
     "output_type": "stream",
     "text": [
      "Epoch 7 average loss 0.111690, val f1_score 0.308966\n"
     ]
    },
    {
     "name": "stderr",
     "output_type": "stream",
     "text": [
      "100%|██████████| 389/389 [01:35<00:00,  4.08it/s]\n",
      "100%|██████████| 49/49 [00:15<00:00,  3.20it/s]\n",
      "  0%|          | 0/389 [00:00<?, ?it/s]"
     ]
    },
    {
     "name": "stdout",
     "output_type": "stream",
     "text": [
      "Epoch 8 average loss 0.104153, val f1_score 0.321331\n"
     ]
    },
    {
     "name": "stderr",
     "output_type": "stream",
     "text": [
      "100%|██████████| 389/389 [01:35<00:00,  4.09it/s]\n",
      "100%|██████████| 49/49 [00:14<00:00,  3.37it/s]\n",
      "  0%|          | 0/389 [00:00<?, ?it/s]"
     ]
    },
    {
     "name": "stdout",
     "output_type": "stream",
     "text": [
      "Epoch 9 average loss 0.093827, val f1_score 0.339495\n"
     ]
    },
    {
     "name": "stderr",
     "output_type": "stream",
     "text": [
      "100%|██████████| 389/389 [01:34<00:00,  4.13it/s]\n",
      "100%|██████████| 49/49 [00:15<00:00,  3.18it/s]\n",
      "  0%|          | 0/389 [00:00<?, ?it/s]"
     ]
    },
    {
     "name": "stdout",
     "output_type": "stream",
     "text": [
      "Epoch 10 average loss 0.080449, val f1_score 0.340370\n"
     ]
    },
    {
     "name": "stderr",
     "output_type": "stream",
     "text": [
      "100%|██████████| 389/389 [01:34<00:00,  4.10it/s]\n",
      "100%|██████████| 49/49 [00:14<00:00,  3.42it/s]\n",
      "  0%|          | 0/389 [00:00<?, ?it/s]"
     ]
    },
    {
     "name": "stdout",
     "output_type": "stream",
     "text": [
      "Epoch 11 average loss 0.061512, val f1_score 0.340365\n"
     ]
    },
    {
     "name": "stderr",
     "output_type": "stream",
     "text": [
      "100%|██████████| 389/389 [01:33<00:00,  4.17it/s]\n",
      "100%|██████████| 49/49 [00:14<00:00,  3.38it/s]\n",
      "  0%|          | 0/389 [00:00<?, ?it/s]"
     ]
    },
    {
     "name": "stdout",
     "output_type": "stream",
     "text": [
      "Epoch 12 average loss 0.042109, val f1_score 0.317246\n"
     ]
    },
    {
     "name": "stderr",
     "output_type": "stream",
     "text": [
      "100%|██████████| 389/389 [01:34<00:00,  4.12it/s]\n",
      "100%|██████████| 49/49 [00:14<00:00,  3.42it/s]\n",
      "  0%|          | 0/389 [00:00<?, ?it/s]"
     ]
    },
    {
     "name": "stdout",
     "output_type": "stream",
     "text": [
      "Epoch 13 average loss 0.027654, val f1_score 0.332203\n"
     ]
    },
    {
     "name": "stderr",
     "output_type": "stream",
     "text": [
      "100%|██████████| 389/389 [01:34<00:00,  4.13it/s]\n",
      "100%|██████████| 49/49 [00:15<00:00,  3.16it/s]\n"
     ]
    },
    {
     "name": "stdout",
     "output_type": "stream",
     "text": [
      "Epoch 14 average loss 0.017649, val f1_score 0.322452\n",
      "Finished Training\n"
     ]
    }
   ],
   "source": [
    "n_epochs = 15\n",
    "train_model(model, n_epochs, optimizer, train_loader, criterion, losses, scores)\n",
    "print('Finished Training')"
   ]
  },
  {
   "cell_type": "code",
   "execution_count": 5,
   "metadata": {},
   "outputs": [
    {
     "name": "stderr",
     "output_type": "stream",
     "text": [
      "100%|██████████| 49/49 [00:15<00:00,  3.20it/s]\n"
     ]
    },
    {
     "name": "stdout",
     "output_type": "stream",
     "text": [
      "0.38136943973716697\n"
     ]
    }
   ],
   "source": [
    "score = eval_model(model, val_loader)\n",
    "print(score)"
   ]
  },
  {
   "cell_type": "code",
   "execution_count": 7,
   "metadata": {},
   "outputs": [
    {
     "data": {
      "text/plain": [
       "[<matplotlib.lines.Line2D at 0x7f68b6ac5d68>]"
      ]
     },
     "execution_count": 7,
     "metadata": {},
     "output_type": "execute_result"
    },
    {
     "data": {
      "image/png": "[encoded data removed]",
      "text/plain": [
       "<matplotlib.figure.Figure at 0x7f68b6e325f8>"
      ]
     },
     "metadata": {
      "needs_background": "light"
     },
     "output_type": "display_data"
    }
   ],
   "source": [
    "plt.plot(scores)"
   ]
  },
  {
   "cell_type": "code",
   "execution_count": 8,
   "metadata": {},
   "outputs": [
    {
     "name": "stderr",
     "output_type": "stream",
     "text": [
      "100%|██████████| 92/92 [00:25<00:00,  3.63it/s]\n"
     ]
    },
    {
     "data": {
      "text/html": [
       "<div>\n",
       "<style scoped>\n",
       "    .dataframe tbody tr th:only-of-type {\n",
       "        vertical-align: middle;\n",
       "    }\n",
       "\n",
       "    .dataframe tbody tr th {\n",
       "        vertical-align: top;\n",
       "    }\n",
       "\n",
       "    .dataframe thead th {\n",
       "        text-align: right;\n",
       "    }\n",
       "</style>\n",
       "<table border=\"1\" class=\"dataframe\">\n",
       "  <thead>\n",
       "    <tr style=\"text-align: right;\">\n",
       "      <th></th>\n",
       "      <th>Id</th>\n",
       "      <th>Predicted</th>\n",
       "    </tr>\n",
       "  </thead>\n",
       "  <tbody>\n",
       "    <tr>\n",
       "      <th>0</th>\n",
       "      <td>00008af0-bad0-11e8-b2b8-ac1f6b6435d0</td>\n",
       "      <td>0 2</td>\n",
       "    </tr>\n",
       "    <tr>\n",
       "      <th>1</th>\n",
       "      <td>0000a892-bacf-11e8-b2b8-ac1f6b6435d0</td>\n",
       "      <td>1 5 25</td>\n",
       "    </tr>\n",
       "    <tr>\n",
       "      <th>2</th>\n",
       "      <td>0006faa6-bac7-11e8-b2b7-ac1f6b6435d0</td>\n",
       "      <td>0 23</td>\n",
       "    </tr>\n",
       "    <tr>\n",
       "      <th>3</th>\n",
       "      <td>0008baca-bad7-11e8-b2b9-ac1f6b6435d0</td>\n",
       "      <td>0 25</td>\n",
       "    </tr>\n",
       "    <tr>\n",
       "      <th>4</th>\n",
       "      <td>000cce7e-bad4-11e8-b2b8-ac1f6b6435d0</td>\n",
       "      <td>23</td>\n",
       "    </tr>\n",
       "  </tbody>\n",
       "</table>\n",
       "</div>"
      ],
      "text/plain": [
       "                                     Id Predicted\n",
       "0  00008af0-bad0-11e8-b2b8-ac1f6b6435d0       0 2\n",
       "1  0000a892-bacf-11e8-b2b8-ac1f6b6435d0    1 5 25\n",
       "2  0006faa6-bac7-11e8-b2b7-ac1f6b6435d0      0 23\n",
       "3  0008baca-bad7-11e8-b2b9-ac1f6b6435d0      0 25\n",
       "4  000cce7e-bad4-11e8-b2b8-ac1f6b6435d0        23"
      ]
     },
     "execution_count": 8,
     "metadata": {},
     "output_type": "execute_result"
    }
   ],
   "source": [
    "sub_df = pd.read_csv('data/sample_submission.csv')\n",
    "test_loader = create_data_loader('data/test', sub_df, load_target=False, shuffle=False)\n",
    "test_pred = eval_model(model, test_loader, score=False)\n",
    "test_pred = (test_pred > 0.2).astype(int)\n",
    "sub_df.Predicted = [' '.join(map(str, test_pred[i].nonzero()[0])) for i,x in enumerate(test_pred)]\n",
    "sub_df.to_csv('submision.csv', index=False)\n",
    "sub_df.head()"
   ]
  }
 ],
 "metadata": {
  "kernelspec": {
   "display_name": "Python 3",
   "language": "python",
   "name": "python3"
  },
  "language_info": {
   "codemirror_mode": {
    "name": "ipython",
    "version": 3
   },
   "file_extension": ".py",
   "mimetype": "text/x-python",
   "name": "python",
   "nbconvert_exporter": "python",
   "pygments_lexer": "ipython3",
   "version": "3.5.2"
  }
 },
 "nbformat": 4,
 "nbformat_minor": 2
}
